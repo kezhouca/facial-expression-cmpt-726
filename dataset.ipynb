{
 "cells": [
  {
   "cell_type": "markdown",
   "metadata": {},
   "source": [
    "Download and unzip fer2013.csv"
   ]
  },
  {
   "cell_type": "code",
   "execution_count": 4,
   "metadata": {},
   "outputs": [
    {
     "name": "stdout",
     "output_type": "stream",
     "text": [
      "fer2013/fer2013.csv\n",
      "fer2013/README\n",
      "fer2013/fer2013.bib\n",
      "fer2013/\n"
     ]
    }
   ],
   "source": [
    "!tar xvzf fer2013.tar.gz\n",
    "!mv fer2013/fer2013.csv .\n",
    "!rm -rf fer2013"
   ]
  },
  {
   "cell_type": "markdown",
   "metadata": {},
   "source": [
    "Extract images from fer2013.csv "
   ]
  },
  {
   "cell_type": "code",
   "execution_count": null,
   "metadata": {},
   "outputs": [],
   "source": [
    "import random\n",
    "import os\n",
    "import cv2\n",
    "import pandas as pd\n",
    "import numpy as np\n",
    "\n",
    "curdir = '..'\n",
    "outputdir=os.path.join(curdir,'Data','Human')\n",
    "def expression(argument):\n",
    "    switcher = {\n",
    "        0:\"Angry\", \n",
    "        1:\"Disgust\", \n",
    "        2:\"Fear\", \n",
    "        3:\"Happy\", \n",
    "        4:\"Sad\", \n",
    "        5:\"Surprise\", \n",
    "        6:\"Neutral\"\n",
    "    }\n",
    "    return switcher.get(argument, \"Invalid number\")\n",
    "\n",
    "def gen_record(csvfile):\n",
    "    data = pd.read_csv(csvfile, delimiter=',', dtype='a')\n",
    "    labels = np.array(data['emotion'], np.float)\n",
    "    imagebuffer = np.array(data['pixels'])\n",
    "    images = np.array([np.fromstring(image, np.uint8, sep=' ') for image in imagebuffer])\n",
    "    del imagebuffer\n",
    "    num_shape = int(np.sqrt(images.shape[-1]))\n",
    "    images.shape = (images.shape[0], num_shape, num_shape)\n",
    "    #img=images[0];cv2.imshow('test',img);cv2.waitKey(0);cv2.destroyAllWindow();exit()\n",
    "    dirs = set(data['Usage'])\n",
    "    subdirs = set(labels)\n",
    "    class_dir = {}\n",
    "    for dr in dirs:\n",
    "        dest = os.path.join(outputdir, dr)\n",
    "        class_dir[dr] = dest\n",
    "        if not os.path.exists(dest):\n",
    "            os.mkdir(dest)\n",
    "    data = zip(labels, images, data['Usage'])\n",
    "\n",
    "    for d in data:\n",
    "        destdir = os.path.join(class_dir[d[-1]], expression(int(d[0])))\n",
    "        if not os.path.exists(destdir):\n",
    "            os.mkdir(destdir)\n",
    "        img = d[1]\n",
    "        filepath = unique_name(destdir, d[-1])\n",
    "        print('[^_^] Write image to %s' % filepath)\n",
    "        if not filepath:\n",
    "            continue\n",
    "        sig = cv2.imwrite(filepath, img)\n",
    "        if not sig:\n",
    "            print('Error')\n",
    "            exit(-1)\n",
    "\n",
    "\n",
    "def unique_name(pardir, prefix, suffix='jpg'):\n",
    "    filename = '{0}_{1}.{2}'.format(prefix, random.randint(1, 10 ** 8), suffix)\n",
    "    filepath = os.path.join(pardir, filename)\n",
    "    if not os.path.exists(filepath):\n",
    "        return filepath\n",
    "    unique_name(pardir, prefix, suffix)\n",
    "    \n",
    "def create_dir(path):\n",
    "    if not os.path.exists(path):\n",
    "        os.mkdir(path)\n",
    "\n",
    "print('start')\n",
    "create_dir('../Data')\n",
    "create_dir('../Data/Human')\n",
    "filename = 'fer2013.csv'\n",
    "gen_record(filename)\n",
    "print('done')"
   ]
  },
  {
   "cell_type": "markdown",
   "metadata": {},
   "source": [
    "Change 48 * 48 images to 256 * 256"
   ]
  },
  {
   "cell_type": "code",
   "execution_count": 7,
   "metadata": {},
   "outputs": [
    {
     "name": "stdout",
     "output_type": "stream",
     "text": [
      "done\n"
     ]
    }
   ],
   "source": [
    "import os\n",
    "import glob\n",
    "from PIL import Image\n",
    "curpath='..'\n",
    "pathfrom = os.path.join(curpath,'Data','Human','Training')\n",
    "pathto =os.path.join(curpath,'Data','Human','resize')\n",
    "if not os.path.exists(pathto):\n",
    "    os.mkdir(pathto)\n",
    "dirs = os.listdir(pathfrom)\n",
    "for d in dirs:\n",
    "    destdir=os.path.join(pathto,d)\n",
    "    if not os.path.exists(destdir):\n",
    "        os.mkdir(destdir)\n",
    "    for root, dirs, files in os.walk(os.path.join(pathfrom, d)):\n",
    "        for f in files:\n",
    "            im = Image.open(os.path.join(pathfrom,d,f))\n",
    "            im2 = im.resize((256, 256), Image.BICUBIC)\n",
    "            im2.save(os.path.join(destdir,f))\n",
    "print('done')"
   ]
  },
  {
   "cell_type": "code",
   "execution_count": null,
   "metadata": {},
   "outputs": [],
   "source": []
  }
 ],
 "metadata": {
  "kernelspec": {
   "display_name": "Python 3",
   "language": "python",
   "name": "python3"
  },
  "language_info": {
   "codemirror_mode": {
    "name": "ipython",
    "version": 3
   },
   "file_extension": ".py",
   "mimetype": "text/x-python",
   "name": "python",
   "nbconvert_exporter": "python",
   "pygments_lexer": "ipython3",
   "version": "3.6.9"
  }
 },
 "nbformat": 4,
 "nbformat_minor": 2
}
